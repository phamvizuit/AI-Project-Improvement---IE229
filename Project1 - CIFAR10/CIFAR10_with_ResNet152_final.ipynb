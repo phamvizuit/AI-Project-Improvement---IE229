{
  "nbformat": 4,
  "nbformat_minor": 0,
  "metadata": {
    "colab": {
      "name": "CIFAR10_with_ResNet152-final.ipynb",
      "provenance": [],
      "collapsed_sections": [],
      "toc_visible": true
    },
    "kernelspec": {
      "name": "python3",
      "display_name": "Python 3"
    },
    "accelerator": "GPU",
    "gpuClass": "standard"
  },
  "cells": [
    {
      "cell_type": "code",
      "metadata": {
        "id": "xM2KKbK13UV8"
      },
      "source": [
        "import numpy as np\n",
        "%matplotlib inline\n",
        "import matplotlib.pyplot as plt\n",
        "from PIL import Image"
      ],
      "execution_count": null,
      "outputs": []
    },
    {
      "cell_type": "code",
      "metadata": {
        "id": "RY6x0u8_3ix7"
      },
      "source": [
        "import torch\n",
        "import torchvision\n",
        "from torchvision import datasets, models, transforms\n",
        "import torch.nn as nn\n",
        "from torch.nn import functional as F\n",
        "import torch.optim as optim\n",
        "from torch.autograd import Variable"
      ],
      "execution_count": null,
      "outputs": []
    },
    {
      "cell_type": "code",
      "metadata": {
        "id": "ATOmTBb24shB"
      },
      "source": [
        "!mkdir models"
      ],
      "execution_count": null,
      "outputs": []
    },
    {
      "cell_type": "code",
      "metadata": {
        "id": "Nh3ymtDomOnR"
      },
      "source": [
        "#CF\n",
        "batch_size = 64\n",
        "learning_rate = 3e-3\n",
        "num_epochs = 10"
      ],
      "execution_count": null,
      "outputs": []
    },
    {
      "cell_type": "markdown",
      "source": [
        "#1. Data Preparation"
      ],
      "metadata": {
        "id": "oYJlA-4_UBqN"
      }
    },
    {
      "cell_type": "markdown",
      "source": [
        "## Data Transforms"
      ],
      "metadata": {
        "id": "f_EZX0RpULMj"
      }
    },
    {
      "cell_type": "code",
      "metadata": {
        "id": "9BTgUxQD6vlx"
      },
      "source": [
        "data_transforms = {\n",
        "    'train':\n",
        "    transforms.Compose([\n",
        "        transforms.RandomHorizontalFlip(p=0.5),\n",
        "        transforms.ToTensor(),\n",
        "        transforms.Normalize((0.485, 0.456, 0.406), (0.229, 0.224, 0.225)),\n",
        "    ]),\n",
        "    'test':\n",
        "    transforms.Compose([\n",
        "        transforms.ToTensor(),\n",
        "        transforms.Normalize((00.485, 0.456, 0.406), (0.229, 0.224, 0.225))\n",
        "    ]),\n",
        "}"
      ],
      "execution_count": null,
      "outputs": []
    },
    {
      "cell_type": "code",
      "metadata": {
        "colab": {
          "base_uri": "https://localhost:8080/"
        },
        "id": "X2lcUuCb62Wp",
        "outputId": "00c6b815-2629-4193-e5f4-1198a72c952e"
      },
      "source": [
        "data_sets = {\n",
        "    'train': torchvision.datasets.CIFAR10(root='data', train=True, download=True, transform=data_transforms['train']),\n",
        "    'test': torchvision.datasets.CIFAR10(root='data', download=True, transform=data_transforms['test'])\n",
        "}"
      ],
      "execution_count": null,
      "outputs": [
        {
          "output_type": "stream",
          "name": "stdout",
          "text": [
            "Files already downloaded and verified\n",
            "Files already downloaded and verified\n"
          ]
        }
      ]
    },
    {
      "cell_type": "code",
      "metadata": {
        "id": "bWg8J19n_t0w",
        "colab": {
          "base_uri": "https://localhost:8080/"
        },
        "outputId": "fdceb101-a2da-48a9-f8c3-7e2559804a8a"
      },
      "source": [
        "print(data_sets['train'])\n",
        "print(data_sets['test'])"
      ],
      "execution_count": null,
      "outputs": [
        {
          "output_type": "stream",
          "name": "stdout",
          "text": [
            "Dataset CIFAR10\n",
            "    Number of datapoints: 50000\n",
            "    Root location: data\n",
            "    Split: Train\n",
            "    StandardTransform\n",
            "Transform: Compose(\n",
            "               RandomHorizontalFlip(p=0.5)\n",
            "               ToTensor()\n",
            "               Normalize(mean=(0.485, 0.456, 0.406), std=(0.229, 0.224, 0.225))\n",
            "           )\n",
            "Dataset CIFAR10\n",
            "    Number of datapoints: 50000\n",
            "    Root location: data\n",
            "    Split: Train\n",
            "    StandardTransform\n",
            "Transform: Compose(\n",
            "               ToTensor()\n",
            "               Normalize(mean=(0.485, 0.456, 0.406), std=(0.229, 0.224, 0.225))\n",
            "           )\n"
          ]
        }
      ]
    },
    {
      "cell_type": "markdown",
      "source": [
        "## Data Loader"
      ],
      "metadata": {
        "id": "5iU73na0UUPK"
      }
    },
    {
      "cell_type": "code",
      "metadata": {
        "id": "l3472qdyAdji"
      },
      "source": [
        "dataloaders = {\n",
        "    'train':\n",
        "    torch.utils.data.DataLoader(data_sets['train'],\n",
        "                                batch_size=batch_size,\n",
        "                                shuffle=True,\n",
        "                                num_workers=0),\n",
        "    'test':\n",
        "    torch.utils.data.DataLoader(data_sets['test'],\n",
        "                                batch_size=batch_size,\n",
        "                                shuffle=False,\n",
        "                                num_workers=0)\n",
        "}"
      ],
      "execution_count": null,
      "outputs": []
    },
    {
      "cell_type": "markdown",
      "source": [
        "#2. Resnet 152 Model"
      ],
      "metadata": {
        "id": "1Oa-FLuZUZs6"
      }
    },
    {
      "cell_type": "code",
      "metadata": {
        "id": "CHonbquGAu9h",
        "colab": {
          "base_uri": "https://localhost:8080/"
        },
        "outputId": "a8293b45-ff5b-45f3-aa19-c7455b29c4cf"
      },
      "source": [
        "use_cuda = torch.cuda.is_available()\n",
        "\n",
        "device = torch.device(\"cuda:0\" if use_cuda else \"cpu\")\n",
        "print(device)"
      ],
      "execution_count": null,
      "outputs": [
        {
          "output_type": "stream",
          "name": "stdout",
          "text": [
            "cuda:0\n"
          ]
        }
      ]
    },
    {
      "cell_type": "code",
      "metadata": {
        "id": "-pddKYoSBARC"
      },
      "source": [
        "model = models.resnet152(pretrained=True)\n",
        "\n",
        "model = model.cuda() if use_cuda else model\n",
        "    \n",
        "num_ftrs = model.fc.in_features\n",
        "model.fc = torch.nn.Linear(num_ftrs, 1024)\n",
        "model.fc = nn.Sequential(\n",
        "    torch.nn.Dropout(0.5),\n",
        "    torch.nn.Linear(num_ftrs, 1024),\n",
        "    torch.nn.Dropout(0.25),\n",
        "    torch.nn.Linear(1024, 512),\n",
        "    torch.nn.Dropout(0.25),\n",
        "    torch.nn.Linear(512, 256),\n",
        "    torch.nn.Dropout(0.25),\n",
        "    torch.nn.Linear(256, 128),\n",
        "    torch.nn.Dropout(0.2),\n",
        "    torch.nn.Linear(128, len(data_sets['train'].classes))\n",
        ")\n",
        "\n",
        "model.fc = model.fc.cuda() if use_cuda else model.fc\n",
        "\n",
        "criterion = nn.CrossEntropyLoss()\n",
        "optimizer = optim.SGD(model.parameters(), lr=learning_rate, momentum=0.9, weight_decay=5e-4)\n",
        "scheduler = torch.optim.lr_scheduler.StepLR(optimizer, step_size=10, gamma=0.1)"
      ],
      "execution_count": null,
      "outputs": []
    },
    {
      "cell_type": "code",
      "source": [
        "model.eval"
      ],
      "metadata": {
        "colab": {
          "base_uri": "https://localhost:8080/"
        },
        "id": "Mv9tKyC7BNgF",
        "outputId": "064fc164-f048-4c1d-d34d-6b1c6dfef321"
      },
      "execution_count": null,
      "outputs": [
        {
          "output_type": "execute_result",
          "data": {
            "text/plain": [
              "<bound method Module.eval of ResNet(\n",
              "  (conv1): Conv2d(3, 64, kernel_size=(7, 7), stride=(2, 2), padding=(3, 3), bias=False)\n",
              "  (bn1): BatchNorm2d(64, eps=1e-05, momentum=0.1, affine=True, track_running_stats=True)\n",
              "  (relu): ReLU(inplace=True)\n",
              "  (maxpool): MaxPool2d(kernel_size=3, stride=2, padding=1, dilation=1, ceil_mode=False)\n",
              "  (layer1): Sequential(\n",
              "    (0): Bottleneck(\n",
              "      (conv1): Conv2d(64, 64, kernel_size=(1, 1), stride=(1, 1), bias=False)\n",
              "      (bn1): BatchNorm2d(64, eps=1e-05, momentum=0.1, affine=True, track_running_stats=True)\n",
              "      (conv2): Conv2d(64, 64, kernel_size=(3, 3), stride=(1, 1), padding=(1, 1), bias=False)\n",
              "      (bn2): BatchNorm2d(64, eps=1e-05, momentum=0.1, affine=True, track_running_stats=True)\n",
              "      (conv3): Conv2d(64, 256, kernel_size=(1, 1), stride=(1, 1), bias=False)\n",
              "      (bn3): BatchNorm2d(256, eps=1e-05, momentum=0.1, affine=True, track_running_stats=True)\n",
              "      (relu): ReLU(inplace=True)\n",
              "      (downsample): Sequential(\n",
              "        (0): Conv2d(64, 256, kernel_size=(1, 1), stride=(1, 1), bias=False)\n",
              "        (1): BatchNorm2d(256, eps=1e-05, momentum=0.1, affine=True, track_running_stats=True)\n",
              "      )\n",
              "    )\n",
              "    (1): Bottleneck(\n",
              "      (conv1): Conv2d(256, 64, kernel_size=(1, 1), stride=(1, 1), bias=False)\n",
              "      (bn1): BatchNorm2d(64, eps=1e-05, momentum=0.1, affine=True, track_running_stats=True)\n",
              "      (conv2): Conv2d(64, 64, kernel_size=(3, 3), stride=(1, 1), padding=(1, 1), bias=False)\n",
              "      (bn2): BatchNorm2d(64, eps=1e-05, momentum=0.1, affine=True, track_running_stats=True)\n",
              "      (conv3): Conv2d(64, 256, kernel_size=(1, 1), stride=(1, 1), bias=False)\n",
              "      (bn3): BatchNorm2d(256, eps=1e-05, momentum=0.1, affine=True, track_running_stats=True)\n",
              "      (relu): ReLU(inplace=True)\n",
              "    )\n",
              "    (2): Bottleneck(\n",
              "      (conv1): Conv2d(256, 64, kernel_size=(1, 1), stride=(1, 1), bias=False)\n",
              "      (bn1): BatchNorm2d(64, eps=1e-05, momentum=0.1, affine=True, track_running_stats=True)\n",
              "      (conv2): Conv2d(64, 64, kernel_size=(3, 3), stride=(1, 1), padding=(1, 1), bias=False)\n",
              "      (bn2): BatchNorm2d(64, eps=1e-05, momentum=0.1, affine=True, track_running_stats=True)\n",
              "      (conv3): Conv2d(64, 256, kernel_size=(1, 1), stride=(1, 1), bias=False)\n",
              "      (bn3): BatchNorm2d(256, eps=1e-05, momentum=0.1, affine=True, track_running_stats=True)\n",
              "      (relu): ReLU(inplace=True)\n",
              "    )\n",
              "  )\n",
              "  (layer2): Sequential(\n",
              "    (0): Bottleneck(\n",
              "      (conv1): Conv2d(256, 128, kernel_size=(1, 1), stride=(1, 1), bias=False)\n",
              "      (bn1): BatchNorm2d(128, eps=1e-05, momentum=0.1, affine=True, track_running_stats=True)\n",
              "      (conv2): Conv2d(128, 128, kernel_size=(3, 3), stride=(2, 2), padding=(1, 1), bias=False)\n",
              "      (bn2): BatchNorm2d(128, eps=1e-05, momentum=0.1, affine=True, track_running_stats=True)\n",
              "      (conv3): Conv2d(128, 512, kernel_size=(1, 1), stride=(1, 1), bias=False)\n",
              "      (bn3): BatchNorm2d(512, eps=1e-05, momentum=0.1, affine=True, track_running_stats=True)\n",
              "      (relu): ReLU(inplace=True)\n",
              "      (downsample): Sequential(\n",
              "        (0): Conv2d(256, 512, kernel_size=(1, 1), stride=(2, 2), bias=False)\n",
              "        (1): BatchNorm2d(512, eps=1e-05, momentum=0.1, affine=True, track_running_stats=True)\n",
              "      )\n",
              "    )\n",
              "    (1): Bottleneck(\n",
              "      (conv1): Conv2d(512, 128, kernel_size=(1, 1), stride=(1, 1), bias=False)\n",
              "      (bn1): BatchNorm2d(128, eps=1e-05, momentum=0.1, affine=True, track_running_stats=True)\n",
              "      (conv2): Conv2d(128, 128, kernel_size=(3, 3), stride=(1, 1), padding=(1, 1), bias=False)\n",
              "      (bn2): BatchNorm2d(128, eps=1e-05, momentum=0.1, affine=True, track_running_stats=True)\n",
              "      (conv3): Conv2d(128, 512, kernel_size=(1, 1), stride=(1, 1), bias=False)\n",
              "      (bn3): BatchNorm2d(512, eps=1e-05, momentum=0.1, affine=True, track_running_stats=True)\n",
              "      (relu): ReLU(inplace=True)\n",
              "    )\n",
              "    (2): Bottleneck(\n",
              "      (conv1): Conv2d(512, 128, kernel_size=(1, 1), stride=(1, 1), bias=False)\n",
              "      (bn1): BatchNorm2d(128, eps=1e-05, momentum=0.1, affine=True, track_running_stats=True)\n",
              "      (conv2): Conv2d(128, 128, kernel_size=(3, 3), stride=(1, 1), padding=(1, 1), bias=False)\n",
              "      (bn2): BatchNorm2d(128, eps=1e-05, momentum=0.1, affine=True, track_running_stats=True)\n",
              "      (conv3): Conv2d(128, 512, kernel_size=(1, 1), stride=(1, 1), bias=False)\n",
              "      (bn3): BatchNorm2d(512, eps=1e-05, momentum=0.1, affine=True, track_running_stats=True)\n",
              "      (relu): ReLU(inplace=True)\n",
              "    )\n",
              "    (3): Bottleneck(\n",
              "      (conv1): Conv2d(512, 128, kernel_size=(1, 1), stride=(1, 1), bias=False)\n",
              "      (bn1): BatchNorm2d(128, eps=1e-05, momentum=0.1, affine=True, track_running_stats=True)\n",
              "      (conv2): Conv2d(128, 128, kernel_size=(3, 3), stride=(1, 1), padding=(1, 1), bias=False)\n",
              "      (bn2): BatchNorm2d(128, eps=1e-05, momentum=0.1, affine=True, track_running_stats=True)\n",
              "      (conv3): Conv2d(128, 512, kernel_size=(1, 1), stride=(1, 1), bias=False)\n",
              "      (bn3): BatchNorm2d(512, eps=1e-05, momentum=0.1, affine=True, track_running_stats=True)\n",
              "      (relu): ReLU(inplace=True)\n",
              "    )\n",
              "    (4): Bottleneck(\n",
              "      (conv1): Conv2d(512, 128, kernel_size=(1, 1), stride=(1, 1), bias=False)\n",
              "      (bn1): BatchNorm2d(128, eps=1e-05, momentum=0.1, affine=True, track_running_stats=True)\n",
              "      (conv2): Conv2d(128, 128, kernel_size=(3, 3), stride=(1, 1), padding=(1, 1), bias=False)\n",
              "      (bn2): BatchNorm2d(128, eps=1e-05, momentum=0.1, affine=True, track_running_stats=True)\n",
              "      (conv3): Conv2d(128, 512, kernel_size=(1, 1), stride=(1, 1), bias=False)\n",
              "      (bn3): BatchNorm2d(512, eps=1e-05, momentum=0.1, affine=True, track_running_stats=True)\n",
              "      (relu): ReLU(inplace=True)\n",
              "    )\n",
              "    (5): Bottleneck(\n",
              "      (conv1): Conv2d(512, 128, kernel_size=(1, 1), stride=(1, 1), bias=False)\n",
              "      (bn1): BatchNorm2d(128, eps=1e-05, momentum=0.1, affine=True, track_running_stats=True)\n",
              "      (conv2): Conv2d(128, 128, kernel_size=(3, 3), stride=(1, 1), padding=(1, 1), bias=False)\n",
              "      (bn2): BatchNorm2d(128, eps=1e-05, momentum=0.1, affine=True, track_running_stats=True)\n",
              "      (conv3): Conv2d(128, 512, kernel_size=(1, 1), stride=(1, 1), bias=False)\n",
              "      (bn3): BatchNorm2d(512, eps=1e-05, momentum=0.1, affine=True, track_running_stats=True)\n",
              "      (relu): ReLU(inplace=True)\n",
              "    )\n",
              "    (6): Bottleneck(\n",
              "      (conv1): Conv2d(512, 128, kernel_size=(1, 1), stride=(1, 1), bias=False)\n",
              "      (bn1): BatchNorm2d(128, eps=1e-05, momentum=0.1, affine=True, track_running_stats=True)\n",
              "      (conv2): Conv2d(128, 128, kernel_size=(3, 3), stride=(1, 1), padding=(1, 1), bias=False)\n",
              "      (bn2): BatchNorm2d(128, eps=1e-05, momentum=0.1, affine=True, track_running_stats=True)\n",
              "      (conv3): Conv2d(128, 512, kernel_size=(1, 1), stride=(1, 1), bias=False)\n",
              "      (bn3): BatchNorm2d(512, eps=1e-05, momentum=0.1, affine=True, track_running_stats=True)\n",
              "      (relu): ReLU(inplace=True)\n",
              "    )\n",
              "    (7): Bottleneck(\n",
              "      (conv1): Conv2d(512, 128, kernel_size=(1, 1), stride=(1, 1), bias=False)\n",
              "      (bn1): BatchNorm2d(128, eps=1e-05, momentum=0.1, affine=True, track_running_stats=True)\n",
              "      (conv2): Conv2d(128, 128, kernel_size=(3, 3), stride=(1, 1), padding=(1, 1), bias=False)\n",
              "      (bn2): BatchNorm2d(128, eps=1e-05, momentum=0.1, affine=True, track_running_stats=True)\n",
              "      (conv3): Conv2d(128, 512, kernel_size=(1, 1), stride=(1, 1), bias=False)\n",
              "      (bn3): BatchNorm2d(512, eps=1e-05, momentum=0.1, affine=True, track_running_stats=True)\n",
              "      (relu): ReLU(inplace=True)\n",
              "    )\n",
              "  )\n",
              "  (layer3): Sequential(\n",
              "    (0): Bottleneck(\n",
              "      (conv1): Conv2d(512, 256, kernel_size=(1, 1), stride=(1, 1), bias=False)\n",
              "      (bn1): BatchNorm2d(256, eps=1e-05, momentum=0.1, affine=True, track_running_stats=True)\n",
              "      (conv2): Conv2d(256, 256, kernel_size=(3, 3), stride=(2, 2), padding=(1, 1), bias=False)\n",
              "      (bn2): BatchNorm2d(256, eps=1e-05, momentum=0.1, affine=True, track_running_stats=True)\n",
              "      (conv3): Conv2d(256, 1024, kernel_size=(1, 1), stride=(1, 1), bias=False)\n",
              "      (bn3): BatchNorm2d(1024, eps=1e-05, momentum=0.1, affine=True, track_running_stats=True)\n",
              "      (relu): ReLU(inplace=True)\n",
              "      (downsample): Sequential(\n",
              "        (0): Conv2d(512, 1024, kernel_size=(1, 1), stride=(2, 2), bias=False)\n",
              "        (1): BatchNorm2d(1024, eps=1e-05, momentum=0.1, affine=True, track_running_stats=True)\n",
              "      )\n",
              "    )\n",
              "    (1): Bottleneck(\n",
              "      (conv1): Conv2d(1024, 256, kernel_size=(1, 1), stride=(1, 1), bias=False)\n",
              "      (bn1): BatchNorm2d(256, eps=1e-05, momentum=0.1, affine=True, track_running_stats=True)\n",
              "      (conv2): Conv2d(256, 256, kernel_size=(3, 3), stride=(1, 1), padding=(1, 1), bias=False)\n",
              "      (bn2): BatchNorm2d(256, eps=1e-05, momentum=0.1, affine=True, track_running_stats=True)\n",
              "      (conv3): Conv2d(256, 1024, kernel_size=(1, 1), stride=(1, 1), bias=False)\n",
              "      (bn3): BatchNorm2d(1024, eps=1e-05, momentum=0.1, affine=True, track_running_stats=True)\n",
              "      (relu): ReLU(inplace=True)\n",
              "    )\n",
              "    (2): Bottleneck(\n",
              "      (conv1): Conv2d(1024, 256, kernel_size=(1, 1), stride=(1, 1), bias=False)\n",
              "      (bn1): BatchNorm2d(256, eps=1e-05, momentum=0.1, affine=True, track_running_stats=True)\n",
              "      (conv2): Conv2d(256, 256, kernel_size=(3, 3), stride=(1, 1), padding=(1, 1), bias=False)\n",
              "      (bn2): BatchNorm2d(256, eps=1e-05, momentum=0.1, affine=True, track_running_stats=True)\n",
              "      (conv3): Conv2d(256, 1024, kernel_size=(1, 1), stride=(1, 1), bias=False)\n",
              "      (bn3): BatchNorm2d(1024, eps=1e-05, momentum=0.1, affine=True, track_running_stats=True)\n",
              "      (relu): ReLU(inplace=True)\n",
              "    )\n",
              "    (3): Bottleneck(\n",
              "      (conv1): Conv2d(1024, 256, kernel_size=(1, 1), stride=(1, 1), bias=False)\n",
              "      (bn1): BatchNorm2d(256, eps=1e-05, momentum=0.1, affine=True, track_running_stats=True)\n",
              "      (conv2): Conv2d(256, 256, kernel_size=(3, 3), stride=(1, 1), padding=(1, 1), bias=False)\n",
              "      (bn2): BatchNorm2d(256, eps=1e-05, momentum=0.1, affine=True, track_running_stats=True)\n",
              "      (conv3): Conv2d(256, 1024, kernel_size=(1, 1), stride=(1, 1), bias=False)\n",
              "      (bn3): BatchNorm2d(1024, eps=1e-05, momentum=0.1, affine=True, track_running_stats=True)\n",
              "      (relu): ReLU(inplace=True)\n",
              "    )\n",
              "    (4): Bottleneck(\n",
              "      (conv1): Conv2d(1024, 256, kernel_size=(1, 1), stride=(1, 1), bias=False)\n",
              "      (bn1): BatchNorm2d(256, eps=1e-05, momentum=0.1, affine=True, track_running_stats=True)\n",
              "      (conv2): Conv2d(256, 256, kernel_size=(3, 3), stride=(1, 1), padding=(1, 1), bias=False)\n",
              "      (bn2): BatchNorm2d(256, eps=1e-05, momentum=0.1, affine=True, track_running_stats=True)\n",
              "      (conv3): Conv2d(256, 1024, kernel_size=(1, 1), stride=(1, 1), bias=False)\n",
              "      (bn3): BatchNorm2d(1024, eps=1e-05, momentum=0.1, affine=True, track_running_stats=True)\n",
              "      (relu): ReLU(inplace=True)\n",
              "    )\n",
              "    (5): Bottleneck(\n",
              "      (conv1): Conv2d(1024, 256, kernel_size=(1, 1), stride=(1, 1), bias=False)\n",
              "      (bn1): BatchNorm2d(256, eps=1e-05, momentum=0.1, affine=True, track_running_stats=True)\n",
              "      (conv2): Conv2d(256, 256, kernel_size=(3, 3), stride=(1, 1), padding=(1, 1), bias=False)\n",
              "      (bn2): BatchNorm2d(256, eps=1e-05, momentum=0.1, affine=True, track_running_stats=True)\n",
              "      (conv3): Conv2d(256, 1024, kernel_size=(1, 1), stride=(1, 1), bias=False)\n",
              "      (bn3): BatchNorm2d(1024, eps=1e-05, momentum=0.1, affine=True, track_running_stats=True)\n",
              "      (relu): ReLU(inplace=True)\n",
              "    )\n",
              "    (6): Bottleneck(\n",
              "      (conv1): Conv2d(1024, 256, kernel_size=(1, 1), stride=(1, 1), bias=False)\n",
              "      (bn1): BatchNorm2d(256, eps=1e-05, momentum=0.1, affine=True, track_running_stats=True)\n",
              "      (conv2): Conv2d(256, 256, kernel_size=(3, 3), stride=(1, 1), padding=(1, 1), bias=False)\n",
              "      (bn2): BatchNorm2d(256, eps=1e-05, momentum=0.1, affine=True, track_running_stats=True)\n",
              "      (conv3): Conv2d(256, 1024, kernel_size=(1, 1), stride=(1, 1), bias=False)\n",
              "      (bn3): BatchNorm2d(1024, eps=1e-05, momentum=0.1, affine=True, track_running_stats=True)\n",
              "      (relu): ReLU(inplace=True)\n",
              "    )\n",
              "    (7): Bottleneck(\n",
              "      (conv1): Conv2d(1024, 256, kernel_size=(1, 1), stride=(1, 1), bias=False)\n",
              "      (bn1): BatchNorm2d(256, eps=1e-05, momentum=0.1, affine=True, track_running_stats=True)\n",
              "      (conv2): Conv2d(256, 256, kernel_size=(3, 3), stride=(1, 1), padding=(1, 1), bias=False)\n",
              "      (bn2): BatchNorm2d(256, eps=1e-05, momentum=0.1, affine=True, track_running_stats=True)\n",
              "      (conv3): Conv2d(256, 1024, kernel_size=(1, 1), stride=(1, 1), bias=False)\n",
              "      (bn3): BatchNorm2d(1024, eps=1e-05, momentum=0.1, affine=True, track_running_stats=True)\n",
              "      (relu): ReLU(inplace=True)\n",
              "    )\n",
              "    (8): Bottleneck(\n",
              "      (conv1): Conv2d(1024, 256, kernel_size=(1, 1), stride=(1, 1), bias=False)\n",
              "      (bn1): BatchNorm2d(256, eps=1e-05, momentum=0.1, affine=True, track_running_stats=True)\n",
              "      (conv2): Conv2d(256, 256, kernel_size=(3, 3), stride=(1, 1), padding=(1, 1), bias=False)\n",
              "      (bn2): BatchNorm2d(256, eps=1e-05, momentum=0.1, affine=True, track_running_stats=True)\n",
              "      (conv3): Conv2d(256, 1024, kernel_size=(1, 1), stride=(1, 1), bias=False)\n",
              "      (bn3): BatchNorm2d(1024, eps=1e-05, momentum=0.1, affine=True, track_running_stats=True)\n",
              "      (relu): ReLU(inplace=True)\n",
              "    )\n",
              "    (9): Bottleneck(\n",
              "      (conv1): Conv2d(1024, 256, kernel_size=(1, 1), stride=(1, 1), bias=False)\n",
              "      (bn1): BatchNorm2d(256, eps=1e-05, momentum=0.1, affine=True, track_running_stats=True)\n",
              "      (conv2): Conv2d(256, 256, kernel_size=(3, 3), stride=(1, 1), padding=(1, 1), bias=False)\n",
              "      (bn2): BatchNorm2d(256, eps=1e-05, momentum=0.1, affine=True, track_running_stats=True)\n",
              "      (conv3): Conv2d(256, 1024, kernel_size=(1, 1), stride=(1, 1), bias=False)\n",
              "      (bn3): BatchNorm2d(1024, eps=1e-05, momentum=0.1, affine=True, track_running_stats=True)\n",
              "      (relu): ReLU(inplace=True)\n",
              "    )\n",
              "    (10): Bottleneck(\n",
              "      (conv1): Conv2d(1024, 256, kernel_size=(1, 1), stride=(1, 1), bias=False)\n",
              "      (bn1): BatchNorm2d(256, eps=1e-05, momentum=0.1, affine=True, track_running_stats=True)\n",
              "      (conv2): Conv2d(256, 256, kernel_size=(3, 3), stride=(1, 1), padding=(1, 1), bias=False)\n",
              "      (bn2): BatchNorm2d(256, eps=1e-05, momentum=0.1, affine=True, track_running_stats=True)\n",
              "      (conv3): Conv2d(256, 1024, kernel_size=(1, 1), stride=(1, 1), bias=False)\n",
              "      (bn3): BatchNorm2d(1024, eps=1e-05, momentum=0.1, affine=True, track_running_stats=True)\n",
              "      (relu): ReLU(inplace=True)\n",
              "    )\n",
              "    (11): Bottleneck(\n",
              "      (conv1): Conv2d(1024, 256, kernel_size=(1, 1), stride=(1, 1), bias=False)\n",
              "      (bn1): BatchNorm2d(256, eps=1e-05, momentum=0.1, affine=True, track_running_stats=True)\n",
              "      (conv2): Conv2d(256, 256, kernel_size=(3, 3), stride=(1, 1), padding=(1, 1), bias=False)\n",
              "      (bn2): BatchNorm2d(256, eps=1e-05, momentum=0.1, affine=True, track_running_stats=True)\n",
              "      (conv3): Conv2d(256, 1024, kernel_size=(1, 1), stride=(1, 1), bias=False)\n",
              "      (bn3): BatchNorm2d(1024, eps=1e-05, momentum=0.1, affine=True, track_running_stats=True)\n",
              "      (relu): ReLU(inplace=True)\n",
              "    )\n",
              "    (12): Bottleneck(\n",
              "      (conv1): Conv2d(1024, 256, kernel_size=(1, 1), stride=(1, 1), bias=False)\n",
              "      (bn1): BatchNorm2d(256, eps=1e-05, momentum=0.1, affine=True, track_running_stats=True)\n",
              "      (conv2): Conv2d(256, 256, kernel_size=(3, 3), stride=(1, 1), padding=(1, 1), bias=False)\n",
              "      (bn2): BatchNorm2d(256, eps=1e-05, momentum=0.1, affine=True, track_running_stats=True)\n",
              "      (conv3): Conv2d(256, 1024, kernel_size=(1, 1), stride=(1, 1), bias=False)\n",
              "      (bn3): BatchNorm2d(1024, eps=1e-05, momentum=0.1, affine=True, track_running_stats=True)\n",
              "      (relu): ReLU(inplace=True)\n",
              "    )\n",
              "    (13): Bottleneck(\n",
              "      (conv1): Conv2d(1024, 256, kernel_size=(1, 1), stride=(1, 1), bias=False)\n",
              "      (bn1): BatchNorm2d(256, eps=1e-05, momentum=0.1, affine=True, track_running_stats=True)\n",
              "      (conv2): Conv2d(256, 256, kernel_size=(3, 3), stride=(1, 1), padding=(1, 1), bias=False)\n",
              "      (bn2): BatchNorm2d(256, eps=1e-05, momentum=0.1, affine=True, track_running_stats=True)\n",
              "      (conv3): Conv2d(256, 1024, kernel_size=(1, 1), stride=(1, 1), bias=False)\n",
              "      (bn3): BatchNorm2d(1024, eps=1e-05, momentum=0.1, affine=True, track_running_stats=True)\n",
              "      (relu): ReLU(inplace=True)\n",
              "    )\n",
              "    (14): Bottleneck(\n",
              "      (conv1): Conv2d(1024, 256, kernel_size=(1, 1), stride=(1, 1), bias=False)\n",
              "      (bn1): BatchNorm2d(256, eps=1e-05, momentum=0.1, affine=True, track_running_stats=True)\n",
              "      (conv2): Conv2d(256, 256, kernel_size=(3, 3), stride=(1, 1), padding=(1, 1), bias=False)\n",
              "      (bn2): BatchNorm2d(256, eps=1e-05, momentum=0.1, affine=True, track_running_stats=True)\n",
              "      (conv3): Conv2d(256, 1024, kernel_size=(1, 1), stride=(1, 1), bias=False)\n",
              "      (bn3): BatchNorm2d(1024, eps=1e-05, momentum=0.1, affine=True, track_running_stats=True)\n",
              "      (relu): ReLU(inplace=True)\n",
              "    )\n",
              "    (15): Bottleneck(\n",
              "      (conv1): Conv2d(1024, 256, kernel_size=(1, 1), stride=(1, 1), bias=False)\n",
              "      (bn1): BatchNorm2d(256, eps=1e-05, momentum=0.1, affine=True, track_running_stats=True)\n",
              "      (conv2): Conv2d(256, 256, kernel_size=(3, 3), stride=(1, 1), padding=(1, 1), bias=False)\n",
              "      (bn2): BatchNorm2d(256, eps=1e-05, momentum=0.1, affine=True, track_running_stats=True)\n",
              "      (conv3): Conv2d(256, 1024, kernel_size=(1, 1), stride=(1, 1), bias=False)\n",
              "      (bn3): BatchNorm2d(1024, eps=1e-05, momentum=0.1, affine=True, track_running_stats=True)\n",
              "      (relu): ReLU(inplace=True)\n",
              "    )\n",
              "    (16): Bottleneck(\n",
              "      (conv1): Conv2d(1024, 256, kernel_size=(1, 1), stride=(1, 1), bias=False)\n",
              "      (bn1): BatchNorm2d(256, eps=1e-05, momentum=0.1, affine=True, track_running_stats=True)\n",
              "      (conv2): Conv2d(256, 256, kernel_size=(3, 3), stride=(1, 1), padding=(1, 1), bias=False)\n",
              "      (bn2): BatchNorm2d(256, eps=1e-05, momentum=0.1, affine=True, track_running_stats=True)\n",
              "      (conv3): Conv2d(256, 1024, kernel_size=(1, 1), stride=(1, 1), bias=False)\n",
              "      (bn3): BatchNorm2d(1024, eps=1e-05, momentum=0.1, affine=True, track_running_stats=True)\n",
              "      (relu): ReLU(inplace=True)\n",
              "    )\n",
              "    (17): Bottleneck(\n",
              "      (conv1): Conv2d(1024, 256, kernel_size=(1, 1), stride=(1, 1), bias=False)\n",
              "      (bn1): BatchNorm2d(256, eps=1e-05, momentum=0.1, affine=True, track_running_stats=True)\n",
              "      (conv2): Conv2d(256, 256, kernel_size=(3, 3), stride=(1, 1), padding=(1, 1), bias=False)\n",
              "      (bn2): BatchNorm2d(256, eps=1e-05, momentum=0.1, affine=True, track_running_stats=True)\n",
              "      (conv3): Conv2d(256, 1024, kernel_size=(1, 1), stride=(1, 1), bias=False)\n",
              "      (bn3): BatchNorm2d(1024, eps=1e-05, momentum=0.1, affine=True, track_running_stats=True)\n",
              "      (relu): ReLU(inplace=True)\n",
              "    )\n",
              "    (18): Bottleneck(\n",
              "      (conv1): Conv2d(1024, 256, kernel_size=(1, 1), stride=(1, 1), bias=False)\n",
              "      (bn1): BatchNorm2d(256, eps=1e-05, momentum=0.1, affine=True, track_running_stats=True)\n",
              "      (conv2): Conv2d(256, 256, kernel_size=(3, 3), stride=(1, 1), padding=(1, 1), bias=False)\n",
              "      (bn2): BatchNorm2d(256, eps=1e-05, momentum=0.1, affine=True, track_running_stats=True)\n",
              "      (conv3): Conv2d(256, 1024, kernel_size=(1, 1), stride=(1, 1), bias=False)\n",
              "      (bn3): BatchNorm2d(1024, eps=1e-05, momentum=0.1, affine=True, track_running_stats=True)\n",
              "      (relu): ReLU(inplace=True)\n",
              "    )\n",
              "    (19): Bottleneck(\n",
              "      (conv1): Conv2d(1024, 256, kernel_size=(1, 1), stride=(1, 1), bias=False)\n",
              "      (bn1): BatchNorm2d(256, eps=1e-05, momentum=0.1, affine=True, track_running_stats=True)\n",
              "      (conv2): Conv2d(256, 256, kernel_size=(3, 3), stride=(1, 1), padding=(1, 1), bias=False)\n",
              "      (bn2): BatchNorm2d(256, eps=1e-05, momentum=0.1, affine=True, track_running_stats=True)\n",
              "      (conv3): Conv2d(256, 1024, kernel_size=(1, 1), stride=(1, 1), bias=False)\n",
              "      (bn3): BatchNorm2d(1024, eps=1e-05, momentum=0.1, affine=True, track_running_stats=True)\n",
              "      (relu): ReLU(inplace=True)\n",
              "    )\n",
              "    (20): Bottleneck(\n",
              "      (conv1): Conv2d(1024, 256, kernel_size=(1, 1), stride=(1, 1), bias=False)\n",
              "      (bn1): BatchNorm2d(256, eps=1e-05, momentum=0.1, affine=True, track_running_stats=True)\n",
              "      (conv2): Conv2d(256, 256, kernel_size=(3, 3), stride=(1, 1), padding=(1, 1), bias=False)\n",
              "      (bn2): BatchNorm2d(256, eps=1e-05, momentum=0.1, affine=True, track_running_stats=True)\n",
              "      (conv3): Conv2d(256, 1024, kernel_size=(1, 1), stride=(1, 1), bias=False)\n",
              "      (bn3): BatchNorm2d(1024, eps=1e-05, momentum=0.1, affine=True, track_running_stats=True)\n",
              "      (relu): ReLU(inplace=True)\n",
              "    )\n",
              "    (21): Bottleneck(\n",
              "      (conv1): Conv2d(1024, 256, kernel_size=(1, 1), stride=(1, 1), bias=False)\n",
              "      (bn1): BatchNorm2d(256, eps=1e-05, momentum=0.1, affine=True, track_running_stats=True)\n",
              "      (conv2): Conv2d(256, 256, kernel_size=(3, 3), stride=(1, 1), padding=(1, 1), bias=False)\n",
              "      (bn2): BatchNorm2d(256, eps=1e-05, momentum=0.1, affine=True, track_running_stats=True)\n",
              "      (conv3): Conv2d(256, 1024, kernel_size=(1, 1), stride=(1, 1), bias=False)\n",
              "      (bn3): BatchNorm2d(1024, eps=1e-05, momentum=0.1, affine=True, track_running_stats=True)\n",
              "      (relu): ReLU(inplace=True)\n",
              "    )\n",
              "    (22): Bottleneck(\n",
              "      (conv1): Conv2d(1024, 256, kernel_size=(1, 1), stride=(1, 1), bias=False)\n",
              "      (bn1): BatchNorm2d(256, eps=1e-05, momentum=0.1, affine=True, track_running_stats=True)\n",
              "      (conv2): Conv2d(256, 256, kernel_size=(3, 3), stride=(1, 1), padding=(1, 1), bias=False)\n",
              "      (bn2): BatchNorm2d(256, eps=1e-05, momentum=0.1, affine=True, track_running_stats=True)\n",
              "      (conv3): Conv2d(256, 1024, kernel_size=(1, 1), stride=(1, 1), bias=False)\n",
              "      (bn3): BatchNorm2d(1024, eps=1e-05, momentum=0.1, affine=True, track_running_stats=True)\n",
              "      (relu): ReLU(inplace=True)\n",
              "    )\n",
              "    (23): Bottleneck(\n",
              "      (conv1): Conv2d(1024, 256, kernel_size=(1, 1), stride=(1, 1), bias=False)\n",
              "      (bn1): BatchNorm2d(256, eps=1e-05, momentum=0.1, affine=True, track_running_stats=True)\n",
              "      (conv2): Conv2d(256, 256, kernel_size=(3, 3), stride=(1, 1), padding=(1, 1), bias=False)\n",
              "      (bn2): BatchNorm2d(256, eps=1e-05, momentum=0.1, affine=True, track_running_stats=True)\n",
              "      (conv3): Conv2d(256, 1024, kernel_size=(1, 1), stride=(1, 1), bias=False)\n",
              "      (bn3): BatchNorm2d(1024, eps=1e-05, momentum=0.1, affine=True, track_running_stats=True)\n",
              "      (relu): ReLU(inplace=True)\n",
              "    )\n",
              "    (24): Bottleneck(\n",
              "      (conv1): Conv2d(1024, 256, kernel_size=(1, 1), stride=(1, 1), bias=False)\n",
              "      (bn1): BatchNorm2d(256, eps=1e-05, momentum=0.1, affine=True, track_running_stats=True)\n",
              "      (conv2): Conv2d(256, 256, kernel_size=(3, 3), stride=(1, 1), padding=(1, 1), bias=False)\n",
              "      (bn2): BatchNorm2d(256, eps=1e-05, momentum=0.1, affine=True, track_running_stats=True)\n",
              "      (conv3): Conv2d(256, 1024, kernel_size=(1, 1), stride=(1, 1), bias=False)\n",
              "      (bn3): BatchNorm2d(1024, eps=1e-05, momentum=0.1, affine=True, track_running_stats=True)\n",
              "      (relu): ReLU(inplace=True)\n",
              "    )\n",
              "    (25): Bottleneck(\n",
              "      (conv1): Conv2d(1024, 256, kernel_size=(1, 1), stride=(1, 1), bias=False)\n",
              "      (bn1): BatchNorm2d(256, eps=1e-05, momentum=0.1, affine=True, track_running_stats=True)\n",
              "      (conv2): Conv2d(256, 256, kernel_size=(3, 3), stride=(1, 1), padding=(1, 1), bias=False)\n",
              "      (bn2): BatchNorm2d(256, eps=1e-05, momentum=0.1, affine=True, track_running_stats=True)\n",
              "      (conv3): Conv2d(256, 1024, kernel_size=(1, 1), stride=(1, 1), bias=False)\n",
              "      (bn3): BatchNorm2d(1024, eps=1e-05, momentum=0.1, affine=True, track_running_stats=True)\n",
              "      (relu): ReLU(inplace=True)\n",
              "    )\n",
              "    (26): Bottleneck(\n",
              "      (conv1): Conv2d(1024, 256, kernel_size=(1, 1), stride=(1, 1), bias=False)\n",
              "      (bn1): BatchNorm2d(256, eps=1e-05, momentum=0.1, affine=True, track_running_stats=True)\n",
              "      (conv2): Conv2d(256, 256, kernel_size=(3, 3), stride=(1, 1), padding=(1, 1), bias=False)\n",
              "      (bn2): BatchNorm2d(256, eps=1e-05, momentum=0.1, affine=True, track_running_stats=True)\n",
              "      (conv3): Conv2d(256, 1024, kernel_size=(1, 1), stride=(1, 1), bias=False)\n",
              "      (bn3): BatchNorm2d(1024, eps=1e-05, momentum=0.1, affine=True, track_running_stats=True)\n",
              "      (relu): ReLU(inplace=True)\n",
              "    )\n",
              "    (27): Bottleneck(\n",
              "      (conv1): Conv2d(1024, 256, kernel_size=(1, 1), stride=(1, 1), bias=False)\n",
              "      (bn1): BatchNorm2d(256, eps=1e-05, momentum=0.1, affine=True, track_running_stats=True)\n",
              "      (conv2): Conv2d(256, 256, kernel_size=(3, 3), stride=(1, 1), padding=(1, 1), bias=False)\n",
              "      (bn2): BatchNorm2d(256, eps=1e-05, momentum=0.1, affine=True, track_running_stats=True)\n",
              "      (conv3): Conv2d(256, 1024, kernel_size=(1, 1), stride=(1, 1), bias=False)\n",
              "      (bn3): BatchNorm2d(1024, eps=1e-05, momentum=0.1, affine=True, track_running_stats=True)\n",
              "      (relu): ReLU(inplace=True)\n",
              "    )\n",
              "    (28): Bottleneck(\n",
              "      (conv1): Conv2d(1024, 256, kernel_size=(1, 1), stride=(1, 1), bias=False)\n",
              "      (bn1): BatchNorm2d(256, eps=1e-05, momentum=0.1, affine=True, track_running_stats=True)\n",
              "      (conv2): Conv2d(256, 256, kernel_size=(3, 3), stride=(1, 1), padding=(1, 1), bias=False)\n",
              "      (bn2): BatchNorm2d(256, eps=1e-05, momentum=0.1, affine=True, track_running_stats=True)\n",
              "      (conv3): Conv2d(256, 1024, kernel_size=(1, 1), stride=(1, 1), bias=False)\n",
              "      (bn3): BatchNorm2d(1024, eps=1e-05, momentum=0.1, affine=True, track_running_stats=True)\n",
              "      (relu): ReLU(inplace=True)\n",
              "    )\n",
              "    (29): Bottleneck(\n",
              "      (conv1): Conv2d(1024, 256, kernel_size=(1, 1), stride=(1, 1), bias=False)\n",
              "      (bn1): BatchNorm2d(256, eps=1e-05, momentum=0.1, affine=True, track_running_stats=True)\n",
              "      (conv2): Conv2d(256, 256, kernel_size=(3, 3), stride=(1, 1), padding=(1, 1), bias=False)\n",
              "      (bn2): BatchNorm2d(256, eps=1e-05, momentum=0.1, affine=True, track_running_stats=True)\n",
              "      (conv3): Conv2d(256, 1024, kernel_size=(1, 1), stride=(1, 1), bias=False)\n",
              "      (bn3): BatchNorm2d(1024, eps=1e-05, momentum=0.1, affine=True, track_running_stats=True)\n",
              "      (relu): ReLU(inplace=True)\n",
              "    )\n",
              "    (30): Bottleneck(\n",
              "      (conv1): Conv2d(1024, 256, kernel_size=(1, 1), stride=(1, 1), bias=False)\n",
              "      (bn1): BatchNorm2d(256, eps=1e-05, momentum=0.1, affine=True, track_running_stats=True)\n",
              "      (conv2): Conv2d(256, 256, kernel_size=(3, 3), stride=(1, 1), padding=(1, 1), bias=False)\n",
              "      (bn2): BatchNorm2d(256, eps=1e-05, momentum=0.1, affine=True, track_running_stats=True)\n",
              "      (conv3): Conv2d(256, 1024, kernel_size=(1, 1), stride=(1, 1), bias=False)\n",
              "      (bn3): BatchNorm2d(1024, eps=1e-05, momentum=0.1, affine=True, track_running_stats=True)\n",
              "      (relu): ReLU(inplace=True)\n",
              "    )\n",
              "    (31): Bottleneck(\n",
              "      (conv1): Conv2d(1024, 256, kernel_size=(1, 1), stride=(1, 1), bias=False)\n",
              "      (bn1): BatchNorm2d(256, eps=1e-05, momentum=0.1, affine=True, track_running_stats=True)\n",
              "      (conv2): Conv2d(256, 256, kernel_size=(3, 3), stride=(1, 1), padding=(1, 1), bias=False)\n",
              "      (bn2): BatchNorm2d(256, eps=1e-05, momentum=0.1, affine=True, track_running_stats=True)\n",
              "      (conv3): Conv2d(256, 1024, kernel_size=(1, 1), stride=(1, 1), bias=False)\n",
              "      (bn3): BatchNorm2d(1024, eps=1e-05, momentum=0.1, affine=True, track_running_stats=True)\n",
              "      (relu): ReLU(inplace=True)\n",
              "    )\n",
              "    (32): Bottleneck(\n",
              "      (conv1): Conv2d(1024, 256, kernel_size=(1, 1), stride=(1, 1), bias=False)\n",
              "      (bn1): BatchNorm2d(256, eps=1e-05, momentum=0.1, affine=True, track_running_stats=True)\n",
              "      (conv2): Conv2d(256, 256, kernel_size=(3, 3), stride=(1, 1), padding=(1, 1), bias=False)\n",
              "      (bn2): BatchNorm2d(256, eps=1e-05, momentum=0.1, affine=True, track_running_stats=True)\n",
              "      (conv3): Conv2d(256, 1024, kernel_size=(1, 1), stride=(1, 1), bias=False)\n",
              "      (bn3): BatchNorm2d(1024, eps=1e-05, momentum=0.1, affine=True, track_running_stats=True)\n",
              "      (relu): ReLU(inplace=True)\n",
              "    )\n",
              "    (33): Bottleneck(\n",
              "      (conv1): Conv2d(1024, 256, kernel_size=(1, 1), stride=(1, 1), bias=False)\n",
              "      (bn1): BatchNorm2d(256, eps=1e-05, momentum=0.1, affine=True, track_running_stats=True)\n",
              "      (conv2): Conv2d(256, 256, kernel_size=(3, 3), stride=(1, 1), padding=(1, 1), bias=False)\n",
              "      (bn2): BatchNorm2d(256, eps=1e-05, momentum=0.1, affine=True, track_running_stats=True)\n",
              "      (conv3): Conv2d(256, 1024, kernel_size=(1, 1), stride=(1, 1), bias=False)\n",
              "      (bn3): BatchNorm2d(1024, eps=1e-05, momentum=0.1, affine=True, track_running_stats=True)\n",
              "      (relu): ReLU(inplace=True)\n",
              "    )\n",
              "    (34): Bottleneck(\n",
              "      (conv1): Conv2d(1024, 256, kernel_size=(1, 1), stride=(1, 1), bias=False)\n",
              "      (bn1): BatchNorm2d(256, eps=1e-05, momentum=0.1, affine=True, track_running_stats=True)\n",
              "      (conv2): Conv2d(256, 256, kernel_size=(3, 3), stride=(1, 1), padding=(1, 1), bias=False)\n",
              "      (bn2): BatchNorm2d(256, eps=1e-05, momentum=0.1, affine=True, track_running_stats=True)\n",
              "      (conv3): Conv2d(256, 1024, kernel_size=(1, 1), stride=(1, 1), bias=False)\n",
              "      (bn3): BatchNorm2d(1024, eps=1e-05, momentum=0.1, affine=True, track_running_stats=True)\n",
              "      (relu): ReLU(inplace=True)\n",
              "    )\n",
              "    (35): Bottleneck(\n",
              "      (conv1): Conv2d(1024, 256, kernel_size=(1, 1), stride=(1, 1), bias=False)\n",
              "      (bn1): BatchNorm2d(256, eps=1e-05, momentum=0.1, affine=True, track_running_stats=True)\n",
              "      (conv2): Conv2d(256, 256, kernel_size=(3, 3), stride=(1, 1), padding=(1, 1), bias=False)\n",
              "      (bn2): BatchNorm2d(256, eps=1e-05, momentum=0.1, affine=True, track_running_stats=True)\n",
              "      (conv3): Conv2d(256, 1024, kernel_size=(1, 1), stride=(1, 1), bias=False)\n",
              "      (bn3): BatchNorm2d(1024, eps=1e-05, momentum=0.1, affine=True, track_running_stats=True)\n",
              "      (relu): ReLU(inplace=True)\n",
              "    )\n",
              "  )\n",
              "  (layer4): Sequential(\n",
              "    (0): Bottleneck(\n",
              "      (conv1): Conv2d(1024, 512, kernel_size=(1, 1), stride=(1, 1), bias=False)\n",
              "      (bn1): BatchNorm2d(512, eps=1e-05, momentum=0.1, affine=True, track_running_stats=True)\n",
              "      (conv2): Conv2d(512, 512, kernel_size=(3, 3), stride=(2, 2), padding=(1, 1), bias=False)\n",
              "      (bn2): BatchNorm2d(512, eps=1e-05, momentum=0.1, affine=True, track_running_stats=True)\n",
              "      (conv3): Conv2d(512, 2048, kernel_size=(1, 1), stride=(1, 1), bias=False)\n",
              "      (bn3): BatchNorm2d(2048, eps=1e-05, momentum=0.1, affine=True, track_running_stats=True)\n",
              "      (relu): ReLU(inplace=True)\n",
              "      (downsample): Sequential(\n",
              "        (0): Conv2d(1024, 2048, kernel_size=(1, 1), stride=(2, 2), bias=False)\n",
              "        (1): BatchNorm2d(2048, eps=1e-05, momentum=0.1, affine=True, track_running_stats=True)\n",
              "      )\n",
              "    )\n",
              "    (1): Bottleneck(\n",
              "      (conv1): Conv2d(2048, 512, kernel_size=(1, 1), stride=(1, 1), bias=False)\n",
              "      (bn1): BatchNorm2d(512, eps=1e-05, momentum=0.1, affine=True, track_running_stats=True)\n",
              "      (conv2): Conv2d(512, 512, kernel_size=(3, 3), stride=(1, 1), padding=(1, 1), bias=False)\n",
              "      (bn2): BatchNorm2d(512, eps=1e-05, momentum=0.1, affine=True, track_running_stats=True)\n",
              "      (conv3): Conv2d(512, 2048, kernel_size=(1, 1), stride=(1, 1), bias=False)\n",
              "      (bn3): BatchNorm2d(2048, eps=1e-05, momentum=0.1, affine=True, track_running_stats=True)\n",
              "      (relu): ReLU(inplace=True)\n",
              "    )\n",
              "    (2): Bottleneck(\n",
              "      (conv1): Conv2d(2048, 512, kernel_size=(1, 1), stride=(1, 1), bias=False)\n",
              "      (bn1): BatchNorm2d(512, eps=1e-05, momentum=0.1, affine=True, track_running_stats=True)\n",
              "      (conv2): Conv2d(512, 512, kernel_size=(3, 3), stride=(1, 1), padding=(1, 1), bias=False)\n",
              "      (bn2): BatchNorm2d(512, eps=1e-05, momentum=0.1, affine=True, track_running_stats=True)\n",
              "      (conv3): Conv2d(512, 2048, kernel_size=(1, 1), stride=(1, 1), bias=False)\n",
              "      (bn3): BatchNorm2d(2048, eps=1e-05, momentum=0.1, affine=True, track_running_stats=True)\n",
              "      (relu): ReLU(inplace=True)\n",
              "    )\n",
              "  )\n",
              "  (avgpool): AdaptiveAvgPool2d(output_size=(1, 1))\n",
              "  (fc): Sequential(\n",
              "    (0): Dropout(p=0.5, inplace=False)\n",
              "    (1): Linear(in_features=2048, out_features=1024, bias=True)\n",
              "    (2): Dropout(p=0.25, inplace=False)\n",
              "    (3): Linear(in_features=1024, out_features=512, bias=True)\n",
              "    (4): Dropout(p=0.25, inplace=False)\n",
              "    (5): Linear(in_features=512, out_features=256, bias=True)\n",
              "    (6): Dropout(p=0.25, inplace=False)\n",
              "    (7): Linear(in_features=256, out_features=128, bias=True)\n",
              "    (8): Dropout(p=0.2, inplace=False)\n",
              "    (9): Linear(in_features=128, out_features=10, bias=True)\n",
              "  )\n",
              ")>"
            ]
          },
          "metadata": {},
          "execution_count": 37
        }
      ]
    },
    {
      "cell_type": "markdown",
      "source": [
        "#3. Train, Test Model"
      ],
      "metadata": {
        "id": "CitRLHLiUm04"
      }
    },
    {
      "cell_type": "code",
      "metadata": {
        "id": "UbuBXRmFBssq",
        "colab": {
          "base_uri": "https://localhost:8080/"
        },
        "outputId": "1b36b11f-3458-4cd5-e171-c2955001905b"
      },
      "source": [
        "train_acces, test_acces = [], []\n",
        "train_losses, test_losses = [], []\n",
        "total_step = len(dataloaders['train'])\n",
        "test_loss_min = np.Inf\n",
        "for epoch in range(num_epochs):\n",
        "    print(f'Epoch {epoch}\\n')\n",
        "\n",
        "    network_learned = False\n",
        "\n",
        "    for phase in ['train', 'test']:\n",
        "\n",
        "        running_loss = 0.0\n",
        "        running_corrects = 0\n",
        "\n",
        "        if phase == 'train':\n",
        "            model.train()\n",
        "\n",
        "            for batch_idx, (inputs, labels) in enumerate(dataloaders[phase]):\n",
        "\n",
        "                if use_cuda:\n",
        "                    inputs = Variable(inputs.cuda())\n",
        "                    labels = Variable(labels.cuda())\n",
        "                else:\n",
        "                    inputs, labels = Variable(inputs), Variable(labels)\n",
        "  \n",
        "                inputs = inputs.float()\n",
        "                optimizer.zero_grad()\n",
        "                outputs = model(inputs)\n",
        "                loss = criterion(outputs, labels)\n",
        "                loss.backward()\n",
        "                optimizer.step()\n",
        "\n",
        "                _, preds = torch.max(outputs, 1)\n",
        "                running_loss += loss.item()\n",
        "                running_corrects += torch.sum(preds == labels.data)\n",
        "                if (batch_idx) % 20 == 0:\n",
        "                    print ('Epoch [{}/{}], Step [{}/{}], Loss: {:.4f}'.format(epoch, num_epochs-1, batch_idx, total_step, loss.item()))\n",
        "            scheduler.step()\n",
        "        else:\n",
        "            with torch.no_grad():\n",
        "                model.eval()\n",
        "                for inputs, labels in dataloaders[phase]:\n",
        "                    if use_cuda:\n",
        "                        inputs = Variable(inputs.cuda())\n",
        "                        labels = Variable(labels.cuda())\n",
        "                    else:\n",
        "                        inputs, labels = Variable(inputs), Variable(labels)\n",
        "                    \n",
        "                    inputs = inputs.float()\n",
        "                    outputs = model(inputs)\n",
        "                    loss = criterion(outputs, labels)\n",
        "\n",
        "                    _, preds = torch.max(outputs, 1)\n",
        "                    running_loss += loss.item()\n",
        "                    running_corrects += torch.sum(preds == labels.data)\n",
        "            network_learned = running_loss < test_loss_min\n",
        "            test_loss_min = running_loss if network_learned else test_loss_min\n",
        "\n",
        "\n",
        "        epoch_loss = running_loss / len(data_sets[phase])\n",
        "        epoch_acc = running_corrects.double() / len(data_sets[phase])\n",
        "        \n",
        "        if phase == 'train':\n",
        "            train_acces.append(epoch_acc * 100)\n",
        "            train_losses.append(epoch_loss)\n",
        "        else:\n",
        "            test_acces.append(epoch_acc * 100)\n",
        "            test_losses.append(epoch_loss)\n",
        "    print(f'\\ntrain-loss: {np.mean(train_losses):.4f}, train-acc: {train_acces[-1]:.4f}')\n",
        "    print(f'test loss: {np.mean(test_losses):.4f}, test acc: {test_acces[-1]:.4f}\\n')\n",
        "\n",
        "    if network_learned:\n",
        "        torch.save(model.state_dict(), 'models/weights.h5')\n",
        "        print('Improvement-Detected, save-model')"
      ],
      "execution_count": null,
      "outputs": [
        {
          "output_type": "stream",
          "name": "stdout",
          "text": [
            "Epoch 0\n",
            "\n",
            "Epoch [0/9], Step [0/782], Loss: 0.6694\n",
            "Epoch [0/9], Step [20/782], Loss: 0.6500\n",
            "Epoch [0/9], Step [40/782], Loss: 1.0480\n",
            "Epoch [0/9], Step [60/782], Loss: 0.4119\n",
            "Epoch [0/9], Step [80/782], Loss: 0.9622\n",
            "Epoch [0/9], Step [100/782], Loss: 0.5433\n",
            "Epoch [0/9], Step [120/782], Loss: 0.5606\n",
            "Epoch [0/9], Step [140/782], Loss: 0.6366\n",
            "Epoch [0/9], Step [160/782], Loss: 0.6837\n",
            "Epoch [0/9], Step [180/782], Loss: 0.5304\n",
            "Epoch [0/9], Step [200/782], Loss: 0.6257\n",
            "Epoch [0/9], Step [220/782], Loss: 0.5955\n",
            "Epoch [0/9], Step [240/782], Loss: 0.5902\n",
            "Epoch [0/9], Step [260/782], Loss: 0.4520\n",
            "Epoch [0/9], Step [280/782], Loss: 0.6150\n",
            "Epoch [0/9], Step [300/782], Loss: 0.6622\n",
            "Epoch [0/9], Step [320/782], Loss: 0.7512\n",
            "Epoch [0/9], Step [340/782], Loss: 0.7952\n",
            "Epoch [0/9], Step [360/782], Loss: 0.5773\n",
            "Epoch [0/9], Step [380/782], Loss: 0.5173\n",
            "Epoch [0/9], Step [400/782], Loss: 0.7210\n",
            "Epoch [0/9], Step [420/782], Loss: 0.6168\n",
            "Epoch [0/9], Step [440/782], Loss: 0.4913\n",
            "Epoch [0/9], Step [460/782], Loss: 0.6670\n",
            "Epoch [0/9], Step [480/782], Loss: 0.4803\n",
            "Epoch [0/9], Step [500/782], Loss: 0.6769\n",
            "Epoch [0/9], Step [520/782], Loss: 0.7091\n",
            "Epoch [0/9], Step [540/782], Loss: 0.5262\n",
            "Epoch [0/9], Step [560/782], Loss: 0.7595\n",
            "Epoch [0/9], Step [580/782], Loss: 0.6411\n",
            "Epoch [0/9], Step [600/782], Loss: 0.4484\n",
            "Epoch [0/9], Step [620/782], Loss: 0.4988\n",
            "Epoch [0/9], Step [640/782], Loss: 0.8266\n",
            "Epoch [0/9], Step [660/782], Loss: 0.5162\n",
            "Epoch [0/9], Step [680/782], Loss: 0.4984\n",
            "Epoch [0/9], Step [700/782], Loss: 0.7809\n",
            "Epoch [0/9], Step [720/782], Loss: 0.6436\n",
            "Epoch [0/9], Step [740/782], Loss: 0.4063\n",
            "Epoch [0/9], Step [760/782], Loss: 0.6646\n",
            "Epoch [0/9], Step [780/782], Loss: 0.6430\n",
            "\n",
            "train-loss: 0.0092, train-acc: 80.6460\n",
            "test loss: 0.0057, test acc: 88.1200\n",
            "\n",
            "Improvement-Detected, save-model\n",
            "Epoch 1\n",
            "\n",
            "Epoch [1/9], Step [0/782], Loss: 0.3252\n",
            "Epoch [1/9], Step [20/782], Loss: 0.3887\n",
            "Epoch [1/9], Step [40/782], Loss: 0.4136\n",
            "Epoch [1/9], Step [60/782], Loss: 0.3461\n",
            "Epoch [1/9], Step [80/782], Loss: 0.3558\n",
            "Epoch [1/9], Step [100/782], Loss: 0.3318\n",
            "Epoch [1/9], Step [120/782], Loss: 0.5635\n",
            "Epoch [1/9], Step [140/782], Loss: 0.3365\n",
            "Epoch [1/9], Step [160/782], Loss: 0.3712\n",
            "Epoch [1/9], Step [180/782], Loss: 0.4442\n",
            "Epoch [1/9], Step [200/782], Loss: 0.4515\n",
            "Epoch [1/9], Step [220/782], Loss: 0.4641\n",
            "Epoch [1/9], Step [240/782], Loss: 0.2370\n",
            "Epoch [1/9], Step [260/782], Loss: 0.5342\n",
            "Epoch [1/9], Step [280/782], Loss: 0.4529\n",
            "Epoch [1/9], Step [300/782], Loss: 0.3831\n",
            "Epoch [1/9], Step [320/782], Loss: 0.5435\n",
            "Epoch [1/9], Step [340/782], Loss: 0.4682\n",
            "Epoch [1/9], Step [360/782], Loss: 0.4576\n",
            "Epoch [1/9], Step [380/782], Loss: 0.4001\n",
            "Epoch [1/9], Step [400/782], Loss: 0.5244\n",
            "Epoch [1/9], Step [420/782], Loss: 0.5292\n",
            "Epoch [1/9], Step [440/782], Loss: 0.2708\n",
            "Epoch [1/9], Step [460/782], Loss: 0.3208\n",
            "Epoch [1/9], Step [480/782], Loss: 0.4644\n",
            "Epoch [1/9], Step [500/782], Loss: 0.5801\n",
            "Epoch [1/9], Step [520/782], Loss: 0.4764\n",
            "Epoch [1/9], Step [540/782], Loss: 0.4756\n",
            "Epoch [1/9], Step [560/782], Loss: 0.5612\n",
            "Epoch [1/9], Step [580/782], Loss: 0.6407\n",
            "Epoch [1/9], Step [600/782], Loss: 0.3288\n",
            "Epoch [1/9], Step [620/782], Loss: 0.4360\n",
            "Epoch [1/9], Step [640/782], Loss: 0.4635\n",
            "Epoch [1/9], Step [660/782], Loss: 0.5812\n",
            "Epoch [1/9], Step [680/782], Loss: 0.4948\n",
            "Epoch [1/9], Step [700/782], Loss: 0.2581\n",
            "Epoch [1/9], Step [720/782], Loss: 0.4515\n",
            "Epoch [1/9], Step [740/782], Loss: 0.6495\n",
            "Epoch [1/9], Step [760/782], Loss: 0.4303\n",
            "Epoch [1/9], Step [780/782], Loss: 0.4289\n",
            "\n",
            "train-loss: 0.0081, train-acc: 85.3500\n",
            "test loss: 0.0052, test acc: 90.2740\n",
            "\n",
            "Improvement-Detected, save-model\n",
            "Epoch 2\n",
            "\n",
            "Epoch [2/9], Step [0/782], Loss: 0.4212\n",
            "Epoch [2/9], Step [20/782], Loss: 0.2762\n",
            "Epoch [2/9], Step [40/782], Loss: 0.2568\n",
            "Epoch [2/9], Step [60/782], Loss: 0.2054\n",
            "Epoch [2/9], Step [80/782], Loss: 0.1569\n",
            "Epoch [2/9], Step [100/782], Loss: 0.2765\n",
            "Epoch [2/9], Step [120/782], Loss: 0.2661\n",
            "Epoch [2/9], Step [140/782], Loss: 0.3370\n",
            "Epoch [2/9], Step [160/782], Loss: 0.4173\n",
            "Epoch [2/9], Step [180/782], Loss: 0.4688\n",
            "Epoch [2/9], Step [200/782], Loss: 0.2590\n",
            "Epoch [2/9], Step [220/782], Loss: 0.2171\n",
            "Epoch [2/9], Step [240/782], Loss: 0.3298\n",
            "Epoch [2/9], Step [260/782], Loss: 0.4549\n",
            "Epoch [2/9], Step [280/782], Loss: 0.4874\n",
            "Epoch [2/9], Step [300/782], Loss: 0.3496\n",
            "Epoch [2/9], Step [320/782], Loss: 0.3885\n",
            "Epoch [2/9], Step [340/782], Loss: 0.3957\n",
            "Epoch [2/9], Step [360/782], Loss: 0.2780\n",
            "Epoch [2/9], Step [380/782], Loss: 0.3515\n",
            "Epoch [2/9], Step [400/782], Loss: 0.2229\n",
            "Epoch [2/9], Step [420/782], Loss: 0.3736\n",
            "Epoch [2/9], Step [440/782], Loss: 0.3561\n",
            "Epoch [2/9], Step [460/782], Loss: 0.4967\n",
            "Epoch [2/9], Step [480/782], Loss: 0.2556\n",
            "Epoch [2/9], Step [500/782], Loss: 0.4046\n",
            "Epoch [2/9], Step [520/782], Loss: 0.3099\n",
            "Epoch [2/9], Step [540/782], Loss: 0.2205\n",
            "Epoch [2/9], Step [560/782], Loss: 0.5411\n",
            "Epoch [2/9], Step [580/782], Loss: 0.3175\n",
            "Epoch [2/9], Step [600/782], Loss: 0.3599\n",
            "Epoch [2/9], Step [620/782], Loss: 0.2373\n",
            "Epoch [2/9], Step [640/782], Loss: 0.4174\n",
            "Epoch [2/9], Step [660/782], Loss: 0.5457\n",
            "Epoch [2/9], Step [680/782], Loss: 0.4665\n",
            "Epoch [2/9], Step [700/782], Loss: 0.3375\n",
            "Epoch [2/9], Step [720/782], Loss: 0.4098\n",
            "Epoch [2/9], Step [740/782], Loss: 0.3626\n",
            "Epoch [2/9], Step [760/782], Loss: 0.2893\n",
            "Epoch [2/9], Step [780/782], Loss: 0.4397\n",
            "\n",
            "train-loss: 0.0073, train-acc: 87.8400\n",
            "test loss: 0.0048, test acc: 91.3680\n",
            "\n",
            "Improvement-Detected, save-model\n",
            "Epoch 3\n",
            "\n",
            "Epoch [3/9], Step [0/782], Loss: 0.2999\n",
            "Epoch [3/9], Step [20/782], Loss: 0.4692\n",
            "Epoch [3/9], Step [40/782], Loss: 0.4131\n",
            "Epoch [3/9], Step [60/782], Loss: 0.3641\n",
            "Epoch [3/9], Step [80/782], Loss: 0.2508\n",
            "Epoch [3/9], Step [100/782], Loss: 0.1790\n",
            "Epoch [3/9], Step [120/782], Loss: 0.4960\n",
            "Epoch [3/9], Step [140/782], Loss: 0.1285\n",
            "Epoch [3/9], Step [160/782], Loss: 0.2260\n",
            "Epoch [3/9], Step [180/782], Loss: 0.3096\n",
            "Epoch [3/9], Step [200/782], Loss: 0.3950\n",
            "Epoch [3/9], Step [220/782], Loss: 0.4374\n",
            "Epoch [3/9], Step [240/782], Loss: 0.3196\n",
            "Epoch [3/9], Step [260/782], Loss: 0.1026\n",
            "Epoch [3/9], Step [280/782], Loss: 0.3445\n",
            "Epoch [3/9], Step [300/782], Loss: 0.2502\n",
            "Epoch [3/9], Step [320/782], Loss: 0.3023\n",
            "Epoch [3/9], Step [340/782], Loss: 0.3968\n",
            "Epoch [3/9], Step [360/782], Loss: 0.1435\n",
            "Epoch [3/9], Step [380/782], Loss: 0.1887\n",
            "Epoch [3/9], Step [400/782], Loss: 0.2727\n",
            "Epoch [3/9], Step [420/782], Loss: 0.3666\n",
            "Epoch [3/9], Step [440/782], Loss: 0.4039\n",
            "Epoch [3/9], Step [460/782], Loss: 0.2483\n",
            "Epoch [3/9], Step [480/782], Loss: 0.5494\n",
            "Epoch [3/9], Step [500/782], Loss: 0.2459\n",
            "Epoch [3/9], Step [520/782], Loss: 0.3605\n",
            "Epoch [3/9], Step [540/782], Loss: 0.4023\n",
            "Epoch [3/9], Step [560/782], Loss: 0.2341\n",
            "Epoch [3/9], Step [580/782], Loss: 0.2580\n",
            "Epoch [3/9], Step [600/782], Loss: 0.3297\n",
            "Epoch [3/9], Step [620/782], Loss: 0.3340\n",
            "Epoch [3/9], Step [640/782], Loss: 0.2378\n",
            "Epoch [3/9], Step [660/782], Loss: 0.3038\n",
            "Epoch [3/9], Step [680/782], Loss: 0.3714\n",
            "Epoch [3/9], Step [700/782], Loss: 0.2154\n",
            "Epoch [3/9], Step [720/782], Loss: 0.4163\n",
            "Epoch [3/9], Step [740/782], Loss: 0.4656\n",
            "Epoch [3/9], Step [760/782], Loss: 0.5794\n",
            "Epoch [3/9], Step [780/782], Loss: 0.2904\n",
            "\n",
            "train-loss: 0.0067, train-acc: 89.6340\n",
            "test loss: 0.0044, test acc: 93.7400\n",
            "\n",
            "Improvement-Detected, save-model\n",
            "Epoch 4\n",
            "\n",
            "Epoch [4/9], Step [0/782], Loss: 0.2181\n",
            "Epoch [4/9], Step [20/782], Loss: 0.3237\n",
            "Epoch [4/9], Step [40/782], Loss: 0.1664\n",
            "Epoch [4/9], Step [60/782], Loss: 0.1986\n",
            "Epoch [4/9], Step [80/782], Loss: 0.3367\n",
            "Epoch [4/9], Step [100/782], Loss: 0.2961\n",
            "Epoch [4/9], Step [120/782], Loss: 0.3575\n",
            "Epoch [4/9], Step [140/782], Loss: 0.2762\n",
            "Epoch [4/9], Step [160/782], Loss: 0.1705\n",
            "Epoch [4/9], Step [180/782], Loss: 0.0827\n",
            "Epoch [4/9], Step [200/782], Loss: 0.2760\n",
            "Epoch [4/9], Step [220/782], Loss: 0.3222\n",
            "Epoch [4/9], Step [240/782], Loss: 0.3529\n",
            "Epoch [4/9], Step [260/782], Loss: 0.1523\n",
            "Epoch [4/9], Step [280/782], Loss: 0.2872\n",
            "Epoch [4/9], Step [300/782], Loss: 0.2745\n",
            "Epoch [4/9], Step [320/782], Loss: 0.2493\n",
            "Epoch [4/9], Step [340/782], Loss: 0.4164\n",
            "Epoch [4/9], Step [360/782], Loss: 0.3120\n",
            "Epoch [4/9], Step [380/782], Loss: 0.2954\n",
            "Epoch [4/9], Step [400/782], Loss: 0.2873\n",
            "Epoch [4/9], Step [420/782], Loss: 0.3071\n",
            "Epoch [4/9], Step [440/782], Loss: 0.4498\n",
            "Epoch [4/9], Step [460/782], Loss: 0.3322\n",
            "Epoch [4/9], Step [480/782], Loss: 0.2308\n",
            "Epoch [4/9], Step [500/782], Loss: 0.3242\n",
            "Epoch [4/9], Step [520/782], Loss: 0.3206\n",
            "Epoch [4/9], Step [540/782], Loss: 0.1850\n",
            "Epoch [4/9], Step [560/782], Loss: 0.1408\n",
            "Epoch [4/9], Step [580/782], Loss: 0.2801\n",
            "Epoch [4/9], Step [600/782], Loss: 0.3220\n",
            "Epoch [4/9], Step [620/782], Loss: 0.3534\n",
            "Epoch [4/9], Step [640/782], Loss: 0.1117\n",
            "Epoch [4/9], Step [660/782], Loss: 0.3750\n",
            "Epoch [4/9], Step [680/782], Loss: 0.3136\n",
            "Epoch [4/9], Step [700/782], Loss: 0.1345\n",
            "Epoch [4/9], Step [720/782], Loss: 0.3583\n",
            "Epoch [4/9], Step [740/782], Loss: 0.1595\n",
            "Epoch [4/9], Step [760/782], Loss: 0.1815\n",
            "Epoch [4/9], Step [780/782], Loss: 0.2648\n",
            "\n",
            "train-loss: 0.0062, train-acc: 91.0340\n",
            "test loss: 0.0040, test acc: 95.1080\n",
            "\n",
            "Improvement-Detected, save-model\n",
            "Epoch 5\n",
            "\n",
            "Epoch [5/9], Step [0/782], Loss: 0.1644\n",
            "Epoch [5/9], Step [20/782], Loss: 0.2582\n",
            "Epoch [5/9], Step [40/782], Loss: 0.2826\n",
            "Epoch [5/9], Step [60/782], Loss: 0.2602\n",
            "Epoch [5/9], Step [80/782], Loss: 0.0817\n",
            "Epoch [5/9], Step [100/782], Loss: 0.2609\n",
            "Epoch [5/9], Step [120/782], Loss: 0.2597\n",
            "Epoch [5/9], Step [140/782], Loss: 0.1143\n",
            "Epoch [5/9], Step [160/782], Loss: 0.3853\n",
            "Epoch [5/9], Step [180/782], Loss: 0.0868\n",
            "Epoch [5/9], Step [200/782], Loss: 0.1088\n",
            "Epoch [5/9], Step [220/782], Loss: 0.1529\n",
            "Epoch [5/9], Step [240/782], Loss: 0.2540\n",
            "Epoch [5/9], Step [260/782], Loss: 0.2504\n",
            "Epoch [5/9], Step [280/782], Loss: 0.2101\n",
            "Epoch [5/9], Step [300/782], Loss: 0.0758\n",
            "Epoch [5/9], Step [320/782], Loss: 0.3258\n",
            "Epoch [5/9], Step [340/782], Loss: 0.2310\n",
            "Epoch [5/9], Step [360/782], Loss: 0.2243\n",
            "Epoch [5/9], Step [380/782], Loss: 0.1967\n",
            "Epoch [5/9], Step [400/782], Loss: 0.2351\n",
            "Epoch [5/9], Step [420/782], Loss: 0.1617\n",
            "Epoch [5/9], Step [440/782], Loss: 0.2328\n",
            "Epoch [5/9], Step [460/782], Loss: 0.1918\n",
            "Epoch [5/9], Step [480/782], Loss: 0.1503\n",
            "Epoch [5/9], Step [500/782], Loss: 0.3365\n",
            "Epoch [5/9], Step [520/782], Loss: 0.2137\n",
            "Epoch [5/9], Step [540/782], Loss: 0.3284\n",
            "Epoch [5/9], Step [560/782], Loss: 0.3909\n",
            "Epoch [5/9], Step [580/782], Loss: 0.1626\n",
            "Epoch [5/9], Step [600/782], Loss: 0.1023\n",
            "Epoch [5/9], Step [620/782], Loss: 0.4150\n",
            "Epoch [5/9], Step [640/782], Loss: 0.2232\n",
            "Epoch [5/9], Step [660/782], Loss: 0.2564\n",
            "Epoch [5/9], Step [680/782], Loss: 0.1377\n",
            "Epoch [5/9], Step [700/782], Loss: 0.1232\n",
            "Epoch [5/9], Step [720/782], Loss: 0.3212\n",
            "Epoch [5/9], Step [740/782], Loss: 0.2831\n",
            "Epoch [5/9], Step [760/782], Loss: 0.1759\n",
            "Epoch [5/9], Step [780/782], Loss: 0.1630\n",
            "\n",
            "train-loss: 0.0058, train-acc: 92.2740\n",
            "test loss: 0.0037, test acc: 95.9600\n",
            "\n",
            "Improvement-Detected, save-model\n",
            "Epoch 6\n",
            "\n",
            "Epoch [6/9], Step [0/782], Loss: 0.1102\n",
            "Epoch [6/9], Step [20/782], Loss: 0.2473\n",
            "Epoch [6/9], Step [40/782], Loss: 0.1863\n",
            "Epoch [6/9], Step [60/782], Loss: 0.2102\n",
            "Epoch [6/9], Step [80/782], Loss: 0.2247\n",
            "Epoch [6/9], Step [100/782], Loss: 0.1508\n",
            "Epoch [6/9], Step [120/782], Loss: 0.2382\n",
            "Epoch [6/9], Step [140/782], Loss: 0.3271\n",
            "Epoch [6/9], Step [160/782], Loss: 0.0908\n",
            "Epoch [6/9], Step [180/782], Loss: 0.1020\n",
            "Epoch [6/9], Step [200/782], Loss: 0.2129\n",
            "Epoch [6/9], Step [220/782], Loss: 0.1954\n",
            "Epoch [6/9], Step [240/782], Loss: 0.3903\n",
            "Epoch [6/9], Step [260/782], Loss: 0.1061\n",
            "Epoch [6/9], Step [280/782], Loss: 0.2198\n",
            "Epoch [6/9], Step [300/782], Loss: 0.1822\n",
            "Epoch [6/9], Step [320/782], Loss: 0.1919\n",
            "Epoch [6/9], Step [340/782], Loss: 0.2165\n",
            "Epoch [6/9], Step [360/782], Loss: 0.1333\n",
            "Epoch [6/9], Step [380/782], Loss: 0.3513\n",
            "Epoch [6/9], Step [400/782], Loss: 0.2721\n",
            "Epoch [6/9], Step [420/782], Loss: 0.1240\n",
            "Epoch [6/9], Step [440/782], Loss: 0.3107\n",
            "Epoch [6/9], Step [460/782], Loss: 0.1340\n",
            "Epoch [6/9], Step [480/782], Loss: 0.1149\n",
            "Epoch [6/9], Step [500/782], Loss: 0.2234\n",
            "Epoch [6/9], Step [520/782], Loss: 0.2510\n",
            "Epoch [6/9], Step [540/782], Loss: 0.2069\n",
            "Epoch [6/9], Step [560/782], Loss: 0.2244\n",
            "Epoch [6/9], Step [580/782], Loss: 0.1597\n",
            "Epoch [6/9], Step [600/782], Loss: 0.3086\n",
            "Epoch [6/9], Step [620/782], Loss: 0.1913\n",
            "Epoch [6/9], Step [640/782], Loss: 0.1867\n",
            "Epoch [6/9], Step [660/782], Loss: 0.2348\n",
            "Epoch [6/9], Step [680/782], Loss: 0.2889\n",
            "Epoch [6/9], Step [700/782], Loss: 0.1019\n",
            "Epoch [6/9], Step [720/782], Loss: 0.2193\n",
            "Epoch [6/9], Step [740/782], Loss: 0.1554\n",
            "Epoch [6/9], Step [760/782], Loss: 0.3459\n",
            "Epoch [6/9], Step [780/782], Loss: 0.1367\n",
            "\n",
            "train-loss: 0.0054, train-acc: 93.1540\n",
            "test loss: 0.0034, test acc: 96.1280\n",
            "\n",
            "Improvement-Detected, save-model\n",
            "Epoch 7\n",
            "\n",
            "Epoch [7/9], Step [0/782], Loss: 0.1868\n",
            "Epoch [7/9], Step [20/782], Loss: 0.1568\n",
            "Epoch [7/9], Step [40/782], Loss: 0.2345\n",
            "Epoch [7/9], Step [60/782], Loss: 0.2227\n",
            "Epoch [7/9], Step [80/782], Loss: 0.1309\n",
            "Epoch [7/9], Step [100/782], Loss: 0.1026\n",
            "Epoch [7/9], Step [120/782], Loss: 0.2356\n",
            "Epoch [7/9], Step [140/782], Loss: 0.2121\n",
            "Epoch [7/9], Step [160/782], Loss: 0.3600\n",
            "Epoch [7/9], Step [180/782], Loss: 0.2344\n",
            "Epoch [7/9], Step [200/782], Loss: 0.1856\n",
            "Epoch [7/9], Step [220/782], Loss: 0.2077\n",
            "Epoch [7/9], Step [240/782], Loss: 0.1065\n",
            "Epoch [7/9], Step [260/782], Loss: 0.1544\n",
            "Epoch [7/9], Step [280/782], Loss: 0.1504\n",
            "Epoch [7/9], Step [300/782], Loss: 0.2616\n",
            "Epoch [7/9], Step [320/782], Loss: 0.1635\n",
            "Epoch [7/9], Step [340/782], Loss: 0.2995\n",
            "Epoch [7/9], Step [360/782], Loss: 0.1122\n",
            "Epoch [7/9], Step [380/782], Loss: 0.1239\n",
            "Epoch [7/9], Step [400/782], Loss: 0.0708\n",
            "Epoch [7/9], Step [420/782], Loss: 0.3044\n",
            "Epoch [7/9], Step [440/782], Loss: 0.1922\n",
            "Epoch [7/9], Step [460/782], Loss: 0.1135\n",
            "Epoch [7/9], Step [480/782], Loss: 0.0811\n",
            "Epoch [7/9], Step [500/782], Loss: 0.1383\n",
            "Epoch [7/9], Step [520/782], Loss: 0.1821\n",
            "Epoch [7/9], Step [540/782], Loss: 0.3003\n",
            "Epoch [7/9], Step [560/782], Loss: 0.1573\n",
            "Epoch [7/9], Step [580/782], Loss: 0.1444\n",
            "Epoch [7/9], Step [600/782], Loss: 0.2380\n",
            "Epoch [7/9], Step [620/782], Loss: 0.1946\n",
            "Epoch [7/9], Step [640/782], Loss: 0.1695\n",
            "Epoch [7/9], Step [660/782], Loss: 0.2067\n",
            "Epoch [7/9], Step [680/782], Loss: 0.1573\n",
            "Epoch [7/9], Step [700/782], Loss: 0.1620\n",
            "Epoch [7/9], Step [720/782], Loss: 0.2001\n",
            "Epoch [7/9], Step [740/782], Loss: 0.1498\n",
            "Epoch [7/9], Step [760/782], Loss: 0.2628\n",
            "Epoch [7/9], Step [780/782], Loss: 0.1030\n",
            "\n",
            "train-loss: 0.0051, train-acc: 93.9420\n",
            "test loss: 0.0032, test acc: 96.3740\n",
            "\n",
            "Improvement-Detected, save-model\n",
            "Epoch 8\n",
            "\n",
            "Epoch [8/9], Step [0/782], Loss: 0.2126\n",
            "Epoch [8/9], Step [20/782], Loss: 0.0975\n",
            "Epoch [8/9], Step [40/782], Loss: 0.0983\n",
            "Epoch [8/9], Step [60/782], Loss: 0.3265\n",
            "Epoch [8/9], Step [80/782], Loss: 0.1083\n",
            "Epoch [8/9], Step [100/782], Loss: 0.1192\n",
            "Epoch [8/9], Step [120/782], Loss: 0.1683\n",
            "Epoch [8/9], Step [140/782], Loss: 0.1160\n",
            "Epoch [8/9], Step [160/782], Loss: 0.1387\n",
            "Epoch [8/9], Step [180/782], Loss: 0.0501\n",
            "Epoch [8/9], Step [200/782], Loss: 0.1822\n",
            "Epoch [8/9], Step [220/782], Loss: 0.1427\n",
            "Epoch [8/9], Step [240/782], Loss: 0.2635\n",
            "Epoch [8/9], Step [260/782], Loss: 0.1716\n",
            "Epoch [8/9], Step [280/782], Loss: 0.2202\n",
            "Epoch [8/9], Step [300/782], Loss: 0.1677\n",
            "Epoch [8/9], Step [320/782], Loss: 0.0689\n",
            "Epoch [8/9], Step [340/782], Loss: 0.2532\n",
            "Epoch [8/9], Step [360/782], Loss: 0.0988\n",
            "Epoch [8/9], Step [380/782], Loss: 0.1666\n",
            "Epoch [8/9], Step [400/782], Loss: 0.1782\n",
            "Epoch [8/9], Step [420/782], Loss: 0.1725\n",
            "Epoch [8/9], Step [440/782], Loss: 0.2474\n",
            "Epoch [8/9], Step [460/782], Loss: 0.2890\n",
            "Epoch [8/9], Step [480/782], Loss: 0.1671\n",
            "Epoch [8/9], Step [500/782], Loss: 0.0589\n",
            "Epoch [8/9], Step [520/782], Loss: 0.0281\n",
            "Epoch [8/9], Step [540/782], Loss: 0.1354\n",
            "Epoch [8/9], Step [560/782], Loss: 0.3072\n",
            "Epoch [8/9], Step [580/782], Loss: 0.2754\n",
            "Epoch [8/9], Step [600/782], Loss: 0.1295\n",
            "Epoch [8/9], Step [620/782], Loss: 0.1518\n",
            "Epoch [8/9], Step [640/782], Loss: 0.2197\n",
            "Epoch [8/9], Step [660/782], Loss: 0.1163\n",
            "Epoch [8/9], Step [680/782], Loss: 0.1410\n",
            "Epoch [8/9], Step [700/782], Loss: 0.1842\n",
            "Epoch [8/9], Step [720/782], Loss: 0.2334\n",
            "Epoch [8/9], Step [740/782], Loss: 0.2009\n",
            "Epoch [8/9], Step [760/782], Loss: 0.2659\n",
            "Epoch [8/9], Step [780/782], Loss: 0.1253\n",
            "\n",
            "train-loss: 0.0048, train-acc: 94.3460\n",
            "test loss: 0.0030, test acc: 97.0340\n",
            "\n",
            "Improvement-Detected, save-model\n",
            "Epoch 9\n",
            "\n",
            "Epoch [9/9], Step [0/782], Loss: 0.1614\n",
            "Epoch [9/9], Step [20/782], Loss: 0.0203\n",
            "Epoch [9/9], Step [40/782], Loss: 0.0469\n",
            "Epoch [9/9], Step [60/782], Loss: 0.1260\n",
            "Epoch [9/9], Step [80/782], Loss: 0.1754\n",
            "Epoch [9/9], Step [100/782], Loss: 0.1212\n",
            "Epoch [9/9], Step [120/782], Loss: 0.1367\n",
            "Epoch [9/9], Step [140/782], Loss: 0.1091\n",
            "Epoch [9/9], Step [160/782], Loss: 0.0783\n",
            "Epoch [9/9], Step [180/782], Loss: 0.2948\n",
            "Epoch [9/9], Step [200/782], Loss: 0.1767\n",
            "Epoch [9/9], Step [220/782], Loss: 0.2654\n",
            "Epoch [9/9], Step [240/782], Loss: 0.1692\n",
            "Epoch [9/9], Step [260/782], Loss: 0.1542\n",
            "Epoch [9/9], Step [280/782], Loss: 0.0495\n",
            "Epoch [9/9], Step [300/782], Loss: 0.1374\n",
            "Epoch [9/9], Step [320/782], Loss: 0.2053\n",
            "Epoch [9/9], Step [340/782], Loss: 0.0981\n",
            "Epoch [9/9], Step [360/782], Loss: 0.0926\n",
            "Epoch [9/9], Step [380/782], Loss: 0.1672\n",
            "Epoch [9/9], Step [400/782], Loss: 0.1583\n",
            "Epoch [9/9], Step [420/782], Loss: 0.1617\n",
            "Epoch [9/9], Step [440/782], Loss: 0.1388\n",
            "Epoch [9/9], Step [460/782], Loss: 0.1465\n",
            "Epoch [9/9], Step [480/782], Loss: 0.2627\n",
            "Epoch [9/9], Step [500/782], Loss: 0.1511\n",
            "Epoch [9/9], Step [520/782], Loss: 0.1625\n",
            "Epoch [9/9], Step [540/782], Loss: 0.1465\n",
            "Epoch [9/9], Step [560/782], Loss: 0.3403\n",
            "Epoch [9/9], Step [580/782], Loss: 0.2718\n",
            "Epoch [9/9], Step [600/782], Loss: 0.1533\n",
            "Epoch [9/9], Step [620/782], Loss: 0.1746\n",
            "Epoch [9/9], Step [640/782], Loss: 0.1931\n",
            "Epoch [9/9], Step [660/782], Loss: 0.0724\n",
            "Epoch [9/9], Step [680/782], Loss: 0.1366\n",
            "Epoch [9/9], Step [700/782], Loss: 0.0342\n",
            "Epoch [9/9], Step [720/782], Loss: 0.1560\n",
            "Epoch [9/9], Step [740/782], Loss: 0.1541\n",
            "Epoch [9/9], Step [760/782], Loss: 0.2333\n",
            "Epoch [9/9], Step [780/782], Loss: 0.0636\n",
            "\n",
            "train-loss: 0.0046, train-acc: 94.8340\n",
            "test loss: 0.0028, test acc: 97.0100\n",
            "\n",
            "Improvement-Detected, save-model\n"
          ]
        }
      ]
    },
    {
      "cell_type": "code",
      "metadata": {
        "id": "TIPEFs-9ce-a",
        "colab": {
          "base_uri": "https://localhost:8080/",
          "height": 296
        },
        "outputId": "659be07a-3f8a-4fef-888c-64a16fe43196"
      },
      "source": [
        "plt.title(\"Train-Test Loss\")\n",
        "plt.plot(train_losses, label='Training loss')\n",
        "plt.plot(test_losses, label='Test loss')\n",
        "plt.xlabel('num_epochs')\n",
        "plt.ylabel('loss')\n",
        "plt.legend(frameon=False)\n",
        "plt.show()"
      ],
      "execution_count": null,
      "outputs": [
        {
          "output_type": "display_data",
          "data": {
            "text/plain": [
              "<Figure size 432x288 with 1 Axes>"
            ],
            "image/png": "[encoded data removed]"
          },
          "metadata": {
            "needs_background": "light"
          }
        }
      ]
    },
    {
      "cell_type": "code",
      "metadata": {
        "id": "3AT-dDtU9ctc"
      },
      "source": [
        "num = 20\n",
        "classes = data_sets['test'].classes\n",
        "indices = list(range(len(data_sets['test'])))\n",
        "np.random.shuffle(indices)\n",
        "idx = indices[:num]\n",
        "from torch.utils.data.sampler import SubsetRandomSampler\n",
        "sampler = SubsetRandomSampler(idx)\n",
        "loader = torch.utils.data.DataLoader(data_sets['test'], sampler=sampler, batch_size=num)\n",
        "dataiter = iter(loader)\n",
        "images, labels = dataiter.next()"
      ],
      "execution_count": null,
      "outputs": []
    },
    {
      "cell_type": "code",
      "metadata": {
        "id": "yTmBHZ7-N-sk"
      },
      "source": [
        "def imshow(inp, title=None):\n",
        "    \n",
        "    inp = inp.cpu() if device else inp\n",
        "    inp = inp.numpy().transpose((1, 2, 0))\n",
        "    \n",
        "    mean = np.array([0.4914, 0.4822, 0.4465])\n",
        "    std = np.array([0.2023, 0.1994, 0.2010])\n",
        "    inp = std * inp + mean\n",
        "    inp = np.clip(inp, 0, 1)\n",
        "    \n",
        "    plt.imshow(inp)\n",
        "    if title is not None:\n",
        "        plt.title(title)\n",
        "    plt.pause(0.001)"
      ],
      "execution_count": null,
      "outputs": []
    },
    {
      "cell_type": "code",
      "metadata": {
        "id": "cBhuPLYYGbnU",
        "colab": {
          "base_uri": "https://localhost:8080/",
          "height": 1000
        },
        "outputId": "36f4f7ca-b631-4b5f-ab67-fe37003febdd"
      },
      "source": [
        "plt.ion()\n",
        "\n",
        "if use_cuda:\n",
        "    images, labels = images.cuda(), labels.cuda()\n",
        "\n",
        "outputs = model(images)\n",
        "_, preds = torch.max(outputs.data, 1)\n",
        "preds = preds.cpu().numpy() if use_cuda else preds.numpy()\n",
        "\n",
        "images_so_far = 0\n",
        "for i in range(num):\n",
        "    images_so_far += 1\n",
        "    ax = plt.subplot(2, 20//2, images_so_far)\n",
        "    ax.axis('off')\n",
        "    res = preds[i] == labels[i]\n",
        "    ax.set_title('{}: {}'.format(classes[preds[i]], res))\n",
        "    imshow(images[i])\n",
        "\n",
        "plt.ioff()"
      ],
      "execution_count": null,
      "outputs": [
        {
          "output_type": "display_data",
          "data": {
            "text/plain": [
              "<Figure size 432x288 with 1 Axes>"
            ],
            "image/png": "[encoded data removed]"
          },
          "metadata": {
            "needs_background": "light"
          }
        },
        {
          "output_type": "display_data",
          "data": {
            "text/plain": [
              "<Figure size 432x288 with 1 Axes>"
            ],
            "image/png": "[encoded data removed]"
          },
          "metadata": {
            "needs_background": "light"
          }
        },
        {
          "output_type": "display_data",
          "data": {
            "text/plain": [
              "<Figure size 432x288 with 1 Axes>"
            ],
            "image/png": "[encoded data removed]"
          },
          "metadata": {
            "needs_background": "light"
          }
        },
        {
          "output_type": "display_data",
          "data": {
            "text/plain": [
              "<Figure size 432x288 with 1 Axes>"
            ],
            "image/png": "[encoded data removed]"
          },
          "metadata": {
            "needs_background": "light"
          }
        },
        {
          "output_type": "display_data",
          "data": {
            "text/plain": [
              "<Figure size 432x288 with 1 Axes>"
            ],
            "image/png": "[encoded data removed]"
          },
          "metadata": {
            "needs_background": "light"
          }
        },
        {
          "output_type": "display_data",
          "data": {
            "text/plain": [
              "<Figure size 432x288 with 1 Axes>"
            ],
            "image/png": "[encoded data removed]"
          },
          "metadata": {
            "needs_background": "light"
          }
        },
        {
          "output_type": "display_data",
          "data": {
            "text/plain": [
              "<Figure size 432x288 with 1 Axes>"
            ],
            "image/png": "[encoded data removed]"
          },
          "metadata": {
            "needs_background": "light"
          }
        },
        {
          "output_type": "display_data",
          "data": {
            "text/plain": [
              "<Figure size 432x288 with 1 Axes>"
            ],
            "image/png": "[encoded data removed]"
          },
          "metadata": {
            "needs_background": "light"
          }
        },
        {
          "output_type": "display_data",
          "data": {
            "text/plain": [
              "<Figure size 432x288 with 1 Axes>"
            ],
            "image/png": "[encoded data removed]"
          },
          "metadata": {
            "needs_background": "light"
          }
        },
        {
          "output_type": "display_data",
          "data": {
            "text/plain": [
              "<Figure size 432x288 with 1 Axes>"
            ],
            "image/png": "[encoded data removed]"
          },
          "metadata": {
            "needs_background": "light"
          }
        },
        {
          "output_type": "display_data",
          "data": {
            "text/plain": [
              "<Figure size 432x288 with 1 Axes>"
            ],
            "image/png": "[encoded data removed]"
          },
          "metadata": {
            "needs_background": "light"
          }
        },
        {
          "output_type": "display_data",
          "data": {
            "text/plain": [
              "<Figure size 432x288 with 1 Axes>"
            ],
            "image/png": "[encoded data removed]"
          },
          "metadata": {
            "needs_background": "light"
          }
        },
        {
          "output_type": "display_data",
          "data": {
            "text/plain": [
              "<Figure size 432x288 with 1 Axes>"
            ],
            "image/png": "[encoded data removed]"
          },
          "metadata": {
            "needs_background": "light"
          }
        },
        {
          "output_type": "display_data",
          "data": {
            "text/plain": [
              "<Figure size 432x288 with 1 Axes>"
            ],
            "image/png": "[encoded data removed]"
          },
          "metadata": {
            "needs_background": "light"
          }
        },
        {
          "output_type": "display_data",
          "data": {
            "text/plain": [
              "<Figure size 432x288 with 1 Axes>"
            ],
            "image/png": "[encoded data removed]"
          },
          "metadata": {
            "needs_background": "light"
          }
        },
        {
          "output_type": "display_data",
          "data": {
            "text/plain": [
              "<Figure size 432x288 with 1 Axes>"
            ],
            "image/png": "[encoded data removed]"
          },
          "metadata": {
            "needs_background": "light"
          }
        },
        {
          "output_type": "display_data",
          "data": {
            "text/plain": [
              "<Figure size 432x288 with 1 Axes>"
            ],
            "image/png": "[encoded data removed]"
          },
          "metadata": {
            "needs_background": "light"
          }
        },
        {
          "output_type": "display_data",
          "data": {
            "text/plain": [
              "<Figure size 432x288 with 1 Axes>"
            ],
            "image/png": "[encoded data removed]"
          },
          "metadata": {
            "needs_background": "light"
          }
        },
        {
          "output_type": "display_data",
          "data": {
            "text/plain": [
              "<Figure size 432x288 with 1 Axes>"
            ],
            "image/png": "[encoded data removed]"
          },
          "metadata": {
            "needs_background": "light"
          }
        },
        {
          "output_type": "display_data",
          "data": {
            "text/plain": [
              "<Figure size 432x288 with 1 Axes>"
            ],
            "image/png": "[encoded data removed]"
          },
          "metadata": {
            "needs_background": "light"
          }
        }
      ]
    }
  ]
}